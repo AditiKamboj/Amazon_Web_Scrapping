{
 "cells": [
  {
   "cell_type": "code",
   "execution_count": 1,
   "id": "a76a5f56",
   "metadata": {},
   "outputs": [],
   "source": [
    "#import libraries\n",
    "from bs4 import BeautifulSoup\n",
    "import requests\n",
    "import smtplib\n",
    "import time\n",
    "import datetime\n",
    "\n"
   ]
  },
  {
   "cell_type": "code",
   "execution_count": null,
   "id": "a4908a6c",
   "metadata": {},
   "outputs": [],
   "source": []
  },
  {
   "cell_type": "code",
   "execution_count": 83,
   "id": "5d23c28f",
   "metadata": {},
   "outputs": [
    {
     "name": "stdout",
     "output_type": "stream",
     "text": [
      "\n",
      "                   Funny Got Data MIS Data Systems Business Analyst T-Shirt\n",
      "                  \n"
     ]
    }
   ],
   "source": [
    "#Connect to the Website\n",
    "URL = 'https://www.amazon.com/Funny-Data-Systems-Business-Analyst/dp/B07FNW9FGJ/ref=sr_1_3?dchild=1&keywords=data%2Banalyst%2Btshirt&qid=1626655184&sr=8-3&customId=B0752XJYNL&th=1'\n",
    "\n",
    "headers = {\"User-Agent\": \"Mozilla/5.0 (Windows NT 10.0; Win64; x64) AppleWebKit/537.36 (KHTML, like Gecko) Chrome/78.0.3904.108 Safari/537.36\", \"Accept-Encoding\":\"gzip, deflate\", \"Accept\":\"text/html,application/xhtml+xml,application/xml;q=0.9,*/*;q=0.8\", \"DNT\":\"1\",\"Connection\":\"close\", \"Upgrade-Insecure-Requests\":\"1\"}\n",
    "\n",
    "page = requests.get(URL, headers=headers)\n",
    "soup1 = BeautifulSoup(page.content, \"html.parser\")\n",
    "soup2 = BeautifulSoup(soup1.prettify(), \"html.parser\")\n",
    "title = soup2.find(id='productTitle').get_text()\n",
    "#price = soup2.find('div', attrs={'class':'a-section a-spacing-none aok-align-center'})\n",
    "price1 = soup2.find_all(\"div\", class_=\"a-section a-spacing-none aok-align-center\")\n",
    "for job_element in price:\n",
    "    price = job_element.find(\"span\", class_=\"a-price aok-align-center reinventPricePriceToPayMargin priceToPay\").get_text()\n",
    "    company_element = job_element.find(\"h3\", class_=\"company\")\n",
    "print (title)\n",
    "#print (price)\n",
    "#price.strip()[0:6]"
   ]
  },
  {
   "cell_type": "code",
   "execution_count": 63,
   "id": "6ee134e5",
   "metadata": {},
   "outputs": [],
   "source": [
    "import csv\n",
    "header =['Title', 'Price']\n",
    "data = [title, price]\n",
    "with open('AmazonWebScraperDataSet.csv', 'w', newline=\"\", encoding='UTF8') as f:\n",
    "    writer = csv.writer(f)\n",
    "    writer.writerow(header)\n",
    "    writer.writerow(data)"
   ]
  },
  {
   "cell_type": "code",
   "execution_count": 37,
   "id": "5dba051e",
   "metadata": {},
   "outputs": [
    {
     "name": "stdout",
     "output_type": "stream",
     "text": [
      "2022-09-11\n"
     ]
    }
   ],
   "source": [
    "import datetime\n",
    "today=datetime.date.today()\n",
    "print(today)"
   ]
  },
  {
   "cell_type": "code",
   "execution_count": 74,
   "id": "96b852d1",
   "metadata": {},
   "outputs": [
    {
     "name": "stdout",
     "output_type": "stream",
     "text": [
      "                                               Title  \\\n",
      "0  \\n            Halterung, „Made for Amazon“, Sc...   \n",
      "\n",
      "                                               Price  \n",
      "0  \\n\\n             12,99€\\n            \\n\\n\\n   ...  \n"
     ]
    }
   ],
   "source": [
    "import pandas as pd\n",
    "df=pd.read_csv(r'C:\\Users\\aditi\\AmazonWebScraperDataSet.csv', on_bad_lines='skip')\n",
    "print(df)"
   ]
  },
  {
   "cell_type": "code",
   "execution_count": 47,
   "id": "7472b89e",
   "metadata": {},
   "outputs": [],
   "source": [
    "#Now we are appending the data to csv\n",
    "with open('AmazonWebScraperDataSet.csv', 'a+', newline=\"\", encoding='UTF8') as f:\n",
    "    writer = csv.writer(f)\n",
    "    writer.writerow(data)"
   ]
  },
  {
   "cell_type": "code",
   "execution_count": 80,
   "id": "af38e006",
   "metadata": {},
   "outputs": [],
   "source": [
    "def check_price():\n",
    "    URL='https://www.amazon.de/brandneue-halterung-made-for-amazon-schwarz-fur-echo-dot-4-gen/dp/B08D7LDQTQ/?pf_rd_r=B5G9D03CN9W881TA88YZ&pf_rd_p=73bd4b07-8bcc-458b-8951-0fd9aa76b2f7&pd_rd_r=452df9fe-564b-466a-9c33-f97ee4442182&pd_rd_w=8EXFq&pd_rd_wg=M7d3k&ref_=pd_gw_unk'\n",
    "\n",
    "    headers = {\"User-Agent\": \"Mozilla/5.0 (Windows NT 10.0; Win64; x64) AppleWebKit/537.36 (KHTML, like Gecko) Chrome/78.0.3904.108 Safari/537.36\", \"Accept-Encoding\":\"gzip, deflate\", \"Accept\":\"text/html,application/xhtml+xml,application/xml;q=0.9,*/*;q=0.8\", \"DNT\":\"1\",\"Connection\":\"close\", \"Upgrade-Insecure-Requests\":\"1\"}\n",
    "\n",
    "    page = requests.get(URL, headers=headers)\n",
    "    soup1 = BeautifulSoup(page.content, \"html.parser\")\n",
    "    soup2 = BeautifulSoup(soup1.prettify(), \"html.parser\")\n",
    "    title = soup2.find(id='productTitle').get_text()\n",
    "    #price = soup2.find('div', attrs={'class':'a-section a-spacing-none aok-align-center'})\n",
    "    price1 = soup2.find_all(\"div\", class_=\"a-section a-spacing-none aok-align-center\")\n",
    "    for job_element in price1:\n",
    "        price = job_element.find(\"span\", class_=\"a-price aok-align-center reinventPricePriceToPayMargin priceToPay\").get_text()\n",
    "    #company_element = job_element.find(\"h3\", class_=\"company\")\n",
    "        print (price)\n",
    "    print (title)\n",
    "            \n",
    "    price.strip()[0:6]\n",
    "    import datetime\n",
    "    today=datetime.date.today()\n",
    "    print(today)\n",
    "    import csv\n",
    "    header =['Title', 'Price', 'Date']\n",
    "    data = [title, price, today]\n",
    "    with open('AmazonWebScraperDataSet.csv', 'a+', newline=\"\", encoding='UTF8') as f:\n",
    "        writer = csv.writer(f)\n",
    "        writer.writerow(data)\n",
    "    send_mail()\n",
    "    "
   ]
  },
  {
   "cell_type": "code",
   "execution_count": 76,
   "id": "e68ba874",
   "metadata": {},
   "outputs": [
    {
     "name": "stdout",
     "output_type": "stream",
     "text": [
      "\n",
      "\n",
      "             12,99€\n",
      "            \n",
      "\n",
      "\n",
      "              12\n",
      "              \n",
      "               ,\n",
      "              \n",
      "\n",
      "\n",
      "              99\n",
      "             \n",
      "\n",
      "              €\n",
      "             \n",
      "\n",
      "\n",
      "\n",
      "            Halterung, „Made for Amazon“, Schwarz, für Echo Dot (4. Gen.)\n",
      "           \n",
      "2022-09-26\n",
      "\n",
      "\n",
      "             12,99€\n",
      "            \n",
      "\n",
      "\n",
      "              12\n",
      "              \n",
      "               ,\n",
      "              \n",
      "\n",
      "\n",
      "              99\n",
      "             \n",
      "\n",
      "              €\n",
      "             \n",
      "\n",
      "\n",
      "\n",
      "            Halterung, „Made for Amazon“, Schwarz, für Echo Dot (4. Gen.)\n",
      "           \n",
      "2022-09-26\n"
     ]
    },
    {
     "ename": "KeyboardInterrupt",
     "evalue": "",
     "output_type": "error",
     "traceback": [
      "\u001b[1;31m---------------------------------------------------------------------------\u001b[0m",
      "\u001b[1;31mKeyboardInterrupt\u001b[0m                         Traceback (most recent call last)",
      "\u001b[1;32m~\\AppData\\Local\\Temp/ipykernel_18076/364068478.py\u001b[0m in \u001b[0;36m<module>\u001b[1;34m\u001b[0m\n\u001b[0;32m      1\u001b[0m \u001b[1;32mwhile\u001b[0m \u001b[1;33m(\u001b[0m\u001b[1;32mTrue\u001b[0m\u001b[1;33m)\u001b[0m\u001b[1;33m:\u001b[0m\u001b[1;33m\u001b[0m\u001b[1;33m\u001b[0m\u001b[0m\n\u001b[0;32m      2\u001b[0m     \u001b[0mcheck_price\u001b[0m\u001b[1;33m(\u001b[0m\u001b[1;33m)\u001b[0m\u001b[1;33m\u001b[0m\u001b[1;33m\u001b[0m\u001b[0m\n\u001b[1;32m----> 3\u001b[1;33m     \u001b[0mtime\u001b[0m\u001b[1;33m.\u001b[0m\u001b[0msleep\u001b[0m\u001b[1;33m(\u001b[0m\u001b[1;36m5\u001b[0m\u001b[1;33m)\u001b[0m\u001b[1;33m\u001b[0m\u001b[1;33m\u001b[0m\u001b[0m\n\u001b[0m",
      "\u001b[1;31mKeyboardInterrupt\u001b[0m: "
     ]
    }
   ],
   "source": [
    "while (True):\n",
    "    check_price()\n",
    "    time.sleep(5)"
   ]
  },
  {
   "cell_type": "code",
   "execution_count": 77,
   "id": "05da42cb",
   "metadata": {},
   "outputs": [
    {
     "name": "stdout",
     "output_type": "stream",
     "text": [
      "                                               Title  \\\n",
      "0  \\n            Halterung, „Made for Amazon“, Sc...   \n",
      "1  \\n            Halterung, „Made for Amazon“, Sc...   \n",
      "2  \\n            Halterung, „Made for Amazon“, Sc...   \n",
      "3  \\n            Halterung, „Made for Amazon“, Sc...   \n",
      "4  \\n            Halterung, „Made for Amazon“, Sc...   \n",
      "5  \\n            Halterung, „Made for Amazon“, Sc...   \n",
      "6  \\n            Halterung, „Made for Amazon“, Sc...   \n",
      "7  \\n            Halterung, „Made for Amazon“, Sc...   \n",
      "8  \\n            Halterung, „Made for Amazon“, Sc...   \n",
      "\n",
      "                                               Price  Unnamed: 2  \n",
      "0  \\n\\n             12,99€\\n            \\n\\n\\n   ...         NaN  \n",
      "1  \\n\\n             12,99€\\n            \\n\\n\\n   ...  12-09-2022  \n",
      "2  \\n\\n             12,99€\\n            \\n\\n\\n   ...  12-09-2022  \n",
      "3  \\n\\n             12,99€\\n            \\n\\n\\n   ...  12-09-2022  \n",
      "4  \\n\\n             12,99€\\n            \\n\\n\\n   ...  12-09-2022  \n",
      "5  \\n\\n             12,99€\\n            \\n\\n\\n   ...  12-09-2022  \n",
      "6  \\n\\n             12,99€\\n            \\n\\n\\n   ...  12-09-2022  \n",
      "7  \\n\\n             12,99€\\n            \\n\\n\\n   ...  26-09-2022  \n",
      "8  \\n\\n             12,99€\\n            \\n\\n\\n   ...  26-09-2022  \n"
     ]
    }
   ],
   "source": [
    "import pandas as pd\n",
    "\n",
    "df = pd.read_csv(r'C:\\Users\\aditi\\AmazonWebScraperDataSet.csv')\n",
    "\n",
    "print(df)"
   ]
  },
  {
   "cell_type": "code",
   "execution_count": 81,
   "id": "4adcddfd",
   "metadata": {},
   "outputs": [],
   "source": [
    "# If we want to try sending ourself an email when a price hits below a certain level  we can try it\n",
    "# out with this script\n",
    "\n",
    "def send_mail():\n",
    "    server = smtplib.SMTP_SSL('smtp.gmail.com',465)\n",
    "    server.ehlo()\n",
    "    #server.starttls()\n",
    "    server.ehlo()\n",
    "    server.login('aditikamboj275@gmail.com','Minki@1234')\n",
    "    \n",
    "    subject = \"The Shirt you want is below $15! Now is your chance to buy!\"\n",
    "    body = \"Alex, This is the moment we have been waiting for. Now is your chance to pick up the shirt of your dreams. Don't mess it up! Link here: https://www.amazon.com/Funny-Data-Systems-Business-Analyst/dp/B07FNW9FGJ/ref=sr_1_3?dchild=1&keywords=data+analyst+tshirt&qid=1626655184&sr=8-3\"\n",
    "   \n",
    "    msg = f\"Subject: {subject}\\n\\n{body}\"\n",
    "    \n",
    "    server.sendmail(\n",
    "        'aditikamboj275@gmail.com',\n",
    "        msg\n",
    "     \n",
    "    )"
   ]
  },
  {
   "cell_type": "code",
   "execution_count": null,
   "id": "25a0804f",
   "metadata": {},
   "outputs": [],
   "source": []
  }
 ],
 "metadata": {
  "kernelspec": {
   "display_name": "Python 3 (ipykernel)",
   "language": "python",
   "name": "python3"
  },
  "language_info": {
   "codemirror_mode": {
    "name": "ipython",
    "version": 3
   },
   "file_extension": ".py",
   "mimetype": "text/x-python",
   "name": "python",
   "nbconvert_exporter": "python",
   "pygments_lexer": "ipython3",
   "version": "3.9.7"
  }
 },
 "nbformat": 4,
 "nbformat_minor": 5
}
